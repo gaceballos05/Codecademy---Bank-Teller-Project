{
 "cells": [
  {
   "cell_type": "markdown",
   "metadata": {},
   "source": [
    "# Bank Teller\n"
   ]
  },
  {
   "cell_type": "markdown",
   "metadata": {},
   "source": [
    "### 1. Initializing savings and checking account values. "
   ]
  },
  {
   "cell_type": "code",
   "execution_count": 31,
   "metadata": {},
   "outputs": [],
   "source": [
    "checking_balance = 0 \n",
    "savings_balance = 0"
   ]
  },
  {
   "cell_type": "markdown",
   "metadata": {},
   "source": [
    "### 2. Create a function to check the Balance"
   ]
  },
  {
   "cell_type": "code",
   "execution_count": 32,
   "metadata": {},
   "outputs": [],
   "source": [
    "def check_balance(account_type, checking_balance, savings_balance):\n",
    "    if account_type == \"savings\":\n",
    "        balance = savings_balance\n",
    "    elif account_type == 'checking':\n",
    "        balance = checking_balance\n",
    "    else:\n",
    "        return (\"Unsuccessful, please enter \\\"checking\\\" or \\\"savings\\\"\")\n",
    "    balance_statement = 'Your ' + account_type + ' balance is ' + str(balance) + '.'\n",
    "    return(balance_statement)"
   ]
  },
  {
   "cell_type": "markdown",
   "metadata": {},
   "source": [
    "### 3. Calling and Printing the check_balance() function for Checking Account"
   ]
  },
  {
   "cell_type": "code",
   "execution_count": 33,
   "metadata": {},
   "outputs": [
    {
     "name": "stdout",
     "output_type": "stream",
     "text": [
      "Your checking balance is 0.\n"
     ]
    }
   ],
   "source": [
    "print(check_balance('checking', checking_balance, savings_balance))"
   ]
  },
  {
   "cell_type": "markdown",
   "metadata": {},
   "source": [
    "### 4. Calling and Printing the check_balance() function for Savings Account"
   ]
  },
  {
   "cell_type": "code",
   "execution_count": 34,
   "metadata": {},
   "outputs": [
    {
     "name": "stdout",
     "output_type": "stream",
     "text": [
      "Your savings balance is 0.\n"
     ]
    }
   ],
   "source": [
    "print(check_balance('savings',checking_balance, savings_balance))"
   ]
  },
  {
   "cell_type": "markdown",
   "metadata": {},
   "source": [
    "### 5. Create a function to make a deposit"
   ]
  },
  {
   "cell_type": "code",
   "execution_count": 35,
   "metadata": {},
   "outputs": [],
   "source": [
    "def make_deposit(account_type, amount, checking_balance, savings_balance):\n",
    "    deposit_status = ''\n",
    "    if amount > 0:\n",
    "        if account_type == 'savings':\n",
    "            savings_balance += amount\n",
    "            deposit_status = 'Succesful'\n",
    "        elif account_type == 'checking':\n",
    "            checking_balance += amount\n",
    "            deposit_status = 'Succesful'\n",
    "        else: \n",
    "            deposit_status = \"Unsuccessful, please enter \\\"checking\\\" or \\\"savings\\\"\"\n",
    "    else: \n",
    "        deposit_status = 'Unsuccessful, please enter an amount greater than 0'\n",
    "    deposit_statement = \"Deposit of \" + str(amount) + \" to your \" + account_type + \" account was \" + deposit_status\n",
    "    print(deposit_statement)\n",
    "    return(savings_balance, checking_balance)"
   ]
  },
  {
   "cell_type": "markdown",
   "metadata": {},
   "source": [
    "### 6. Call deposit function and make a savings deposit"
   ]
  },
  {
   "cell_type": "code",
   "execution_count": 36,
   "metadata": {},
   "outputs": [
    {
     "name": "stdout",
     "output_type": "stream",
     "text": [
      "Deposit of 10 to your savings account was Succesful\n"
     ]
    }
   ],
   "source": [
    "savings_balance, checking_balance = make_deposit(\"savings\", 10, checking_balance, savings_balance)"
   ]
  },
  {
   "cell_type": "markdown",
   "metadata": {},
   "source": [
    "### 7. Print savings balance call after making a savings deposit\n",
    "\n",
    "Now that a deposit has been made to the savings account, print your savings balance. Call the `check_balance()` function with these arguments; `\"savings\"`, `checking_balance` and `savings_balance` within a print function. Your new savings balance should print."
   ]
  },
  {
   "cell_type": "code",
   "execution_count": 37,
   "metadata": {},
   "outputs": [
    {
     "name": "stdout",
     "output_type": "stream",
     "text": [
      "Your savings balance is 10.\n"
     ]
    }
   ],
   "source": [
    "print(check_balance('savings', checking_balance, savings_balance))"
   ]
  },
  {
   "cell_type": "markdown",
   "metadata": {},
   "source": [
    "### 8. Call deposit function and make a checking deposit"
   ]
  },
  {
   "cell_type": "code",
   "execution_count": 38,
   "metadata": {},
   "outputs": [
    {
     "name": "stdout",
     "output_type": "stream",
     "text": [
      "Deposit of 200 to your checking account was Succesful\n"
     ]
    }
   ],
   "source": [
    "savings_balance, checking_balance = make_deposit('checking', 200, checking_balance, savings_balance)"
   ]
  },
  {
   "cell_type": "markdown",
   "metadata": {},
   "source": [
    "### 9. Print checking balance call after making a checking deposit"
   ]
  },
  {
   "cell_type": "code",
   "execution_count": 39,
   "metadata": {},
   "outputs": [
    {
     "name": "stdout",
     "output_type": "stream",
     "text": [
      "Your checking balance is 200.\n"
     ]
    }
   ],
   "source": [
    "print(check_balance('checking', checking_balance, savings_balance))"
   ]
  },
  {
   "cell_type": "markdown",
   "metadata": {},
   "source": [
    "### 10. Create a function to make a withdrawal"
   ]
  },
  {
   "cell_type": "code",
   "execution_count": 40,
   "metadata": {},
   "outputs": [],
   "source": [
    "def make_withdrawal(account_type, amount, checking_balance, savings_balance):\n",
    "    withdrawal_status = ''\n",
    "    fail = \"unsuccessful, please enter amount less than balance\"\n",
    "    if account_type == 'savings':\n",
    "        if amount <= savings_balance:\n",
    "            savings_balance -= amount\n",
    "            withdrawal_status = 'successful'\n",
    "        else: \n",
    "            withdrawal_status = fail \n",
    "    elif account_type == 'checking':\n",
    "        if amount <= checking_balance:\n",
    "            checking_balance -= amount\n",
    "            withdrawal_status = 'successful'\n",
    "        else: \n",
    "            withdrawal_status = fail\n",
    "    else:\n",
    "        withdrawal_status = \"Unsuccessful, please enter \\\"checking\\\" or \\\"savings\\\"\"\n",
    "    \n",
    "    withdrawal_statement = \"Withdrawal of \" + str(amount) + \" from your \" + account_type + \" was \" + withdrawal_status\n",
    "    \n",
    "    print(withdrawal_statement)\n",
    "    return(savings_balance, checking_balance)"
   ]
  },
  {
   "cell_type": "markdown",
   "metadata": {},
   "source": [
    "### 11. Call withdrawal function and make a savings withdrawal"
   ]
  },
  {
   "cell_type": "code",
   "execution_count": 41,
   "metadata": {},
   "outputs": [
    {
     "name": "stdout",
     "output_type": "stream",
     "text": [
      "Withdrawal of 11 from your savings was unsuccessful, please enter amount less than balance\n"
     ]
    }
   ],
   "source": [
    "savings_balance, checking_balance = make_withdrawal('savings', 11, checking_balance, savings_balance)"
   ]
  },
  {
   "cell_type": "markdown",
   "metadata": {},
   "source": [
    "### 12. Print savings balance call, after making a savings withdrawal"
   ]
  },
  {
   "cell_type": "code",
   "execution_count": 42,
   "metadata": {},
   "outputs": [
    {
     "name": "stdout",
     "output_type": "stream",
     "text": [
      "Your savings balance is 10.\n"
     ]
    }
   ],
   "source": [
    "print(check_balance('savings', checking_balance, savings_balance))"
   ]
  },
  {
   "cell_type": "markdown",
   "metadata": {},
   "source": [
    "### 13. Call withdrawal function and make a checking withdrawal"
   ]
  },
  {
   "cell_type": "code",
   "execution_count": 43,
   "metadata": {},
   "outputs": [
    {
     "name": "stdout",
     "output_type": "stream",
     "text": [
      "Withdrawal of 170 from your checking was successful\n"
     ]
    }
   ],
   "source": [
    "savings_balance, checking_balance = make_withdrawal('checking', 170, checking_balance, savings_balance)"
   ]
  },
  {
   "cell_type": "markdown",
   "metadata": {},
   "source": [
    "### 14. Print checking balance call, after making a checking withdrawal"
   ]
  },
  {
   "cell_type": "code",
   "execution_count": 44,
   "metadata": {},
   "outputs": [
    {
     "name": "stdout",
     "output_type": "stream",
     "text": [
      "Your checking balance is 30.\n"
     ]
    }
   ],
   "source": [
    "print(check_balance('checking', checking_balance, savings_balance))"
   ]
  },
  {
   "cell_type": "markdown",
   "metadata": {},
   "source": [
    "### 15. Create a function to make a transfer between accounts"
   ]
  },
  {
   "cell_type": "code",
   "execution_count": 45,
   "metadata": {},
   "outputs": [],
   "source": [
    "def acc_transfer(acc_from, acc_to, amount, checking_balance, savings_balance):\n",
    "    transaction_status = ''\n",
    "    trans_error = 'unsuccessful, please enter amount less than '\n",
    "    if acc_from == 'savings' and acc_to == \"checking\":\n",
    "        if amount <= savings_balance: \n",
    "            savings_balance -= amount\n",
    "            checking_balance += amount\n",
    "            transaction_status = 'successful'    \n",
    "        else: \n",
    "            transaction_status = trans_error + str(savings_balance)\n",
    "    elif acc_from == 'checking' and acc_to == \"savings\":\n",
    "        if amount <= checking_balance: \n",
    "            checking_balance -= amount\n",
    "            savings_balance += amount\n",
    "            transaction_status = 'successful'    \n",
    "        else: \n",
    "            transaction_status = trans_error + str(checking_balance)      \n",
    "    else: \n",
    "        transaction_status = \"unsuccessful, please enter \\\"checking\\\" or \\\"savings\\\"\"\n",
    "    \n",
    "    transaction_statement =  \"Transfer of \" + str(amount) + \" from your \" + acc_from + \" to your \" \\\n",
    "+ acc_to + \" account was \" + transaction_status + \".\"\n",
    "    print(transaction_statement)\n",
    "    return(savings_balance, checking_balance)"
   ]
  },
  {
   "cell_type": "markdown",
   "metadata": {},
   "source": [
    "### 16. Call transfer function and make a checking to savings transfer"
   ]
  },
  {
   "cell_type": "code",
   "execution_count": 46,
   "metadata": {},
   "outputs": [
    {
     "name": "stdout",
     "output_type": "stream",
     "text": [
      "Transfer of 40 from your checking to your savings account was unsuccessful, please enter amount less than 30.\n"
     ]
    }
   ],
   "source": [
    "savings_balance, checking_balance = acc_transfer(\"checking\", \"savings\", 40, checking_balance, savings_balance)"
   ]
  },
  {
   "cell_type": "markdown",
   "metadata": {},
   "source": [
    "### 17. Print checking balance after making a checking to savings transfer\n",
    "\n",
    "Now that a transfer has been made from the checking to savings account, print your checking balance. Call the `check_balance()` function with these arguments; `\"checking\"`, `checking_balance` and `savings_balance` within a print function. Your new checking balance should print. "
   ]
  },
  {
   "cell_type": "code",
   "execution_count": 47,
   "metadata": {},
   "outputs": [
    {
     "name": "stdout",
     "output_type": "stream",
     "text": [
      "Your checking balance is 30.\n"
     ]
    }
   ],
   "source": [
    "print(check_balance('checking', checking_balance, savings_balance))"
   ]
  },
  {
   "cell_type": "markdown",
   "metadata": {},
   "source": [
    "### 18. Print savings balance after making a checking to savings transfer"
   ]
  },
  {
   "cell_type": "code",
   "execution_count": 48,
   "metadata": {},
   "outputs": [
    {
     "name": "stdout",
     "output_type": "stream",
     "text": [
      "Your savings balance is 10.\n"
     ]
    }
   ],
   "source": [
    "print(check_balance('savings', checking_balance, savings_balance))"
   ]
  },
  {
   "cell_type": "markdown",
   "metadata": {},
   "source": [
    "### 19. Call transfer function and make a savings to checking transfer"
   ]
  },
  {
   "cell_type": "code",
   "execution_count": 49,
   "metadata": {},
   "outputs": [
    {
     "name": "stdout",
     "output_type": "stream",
     "text": [
      "Transfer of 5 from your savings to your checking account was successful.\n"
     ]
    }
   ],
   "source": [
    "savings_balance, checking_balance = acc_transfer(\"savings\", \"checking\", 5, checking_balance, savings_balance)"
   ]
  },
  {
   "cell_type": "markdown",
   "metadata": {},
   "source": [
    "### 20. Print checking balance after making a savings to checking transfer"
   ]
  },
  {
   "cell_type": "code",
   "execution_count": 50,
   "metadata": {},
   "outputs": [
    {
     "name": "stdout",
     "output_type": "stream",
     "text": [
      "Your checking balance is 35.\n"
     ]
    }
   ],
   "source": [
    "print(check_balance('checking', checking_balance, savings_balance))"
   ]
  },
  {
   "cell_type": "markdown",
   "metadata": {},
   "source": [
    "### 21. Print saving balance after making a savings to checking transfer"
   ]
  },
  {
   "cell_type": "code",
   "execution_count": 51,
   "metadata": {},
   "outputs": [
    {
     "name": "stdout",
     "output_type": "stream",
     "text": [
      "Your savings balance is 5.\n"
     ]
    }
   ],
   "source": [
    "print(check_balance('savings', checking_balance, savings_balance))"
   ]
  }
 ],
 "metadata": {
  "kernelspec": {
   "display_name": "Python 3",
   "language": "python",
   "name": "python3"
  },
  "language_info": {
   "codemirror_mode": {
    "name": "ipython",
    "version": 3
   },
   "file_extension": ".py",
   "mimetype": "text/x-python",
   "name": "python",
   "nbconvert_exporter": "python",
   "pygments_lexer": "ipython3",
   "version": "3.7.6"
  },
  "latex_envs": {
   "LaTeX_envs_menu_present": true,
   "autoclose": false,
   "autocomplete": true,
   "bibliofile": "biblio.bib",
   "cite_by": "apalike",
   "current_citInitial": 1,
   "eqLabelWithNumbers": true,
   "eqNumInitial": 1,
   "hotkeys": {
    "equation": "Ctrl-E",
    "itemize": "Ctrl-I"
   },
   "labels_anchors": false,
   "latex_user_defs": false,
   "report_style_numbering": false,
   "user_envs_cfg": false
  }
 },
 "nbformat": 4,
 "nbformat_minor": 2
}
